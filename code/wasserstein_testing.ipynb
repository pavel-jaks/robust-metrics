{
 "cells": [
  {
   "cell_type": "code",
   "execution_count": null,
   "metadata": {},
   "outputs": [],
   "source": [
    "%load_ext autoreload\n",
    "%autoreload 2"
   ]
  },
  {
   "cell_type": "code",
   "execution_count": null,
   "metadata": {},
   "outputs": [],
   "source": [
    "from mytest import get_mnist_pair, dual_sinkhorn\n",
    "from metrics import WassersteinApproximation, CostMatrixType"
   ]
  },
  {
   "cell_type": "code",
   "execution_count": null,
   "metadata": {},
   "outputs": [],
   "source": [
    "image, noised_image = get_mnist_pair()\n",
    "image = image.unsqueeze(0)\n",
    "noised_image = noised_image.unsqueeze(0)\n",
    "\n",
    "regularization = 5\n",
    "\n",
    "ref_wass = dual_sinkhorn(image, noised_image, regularization)\n",
    "my_wass = WassersteinApproximation(\n",
    "    regularization=regularization,\n",
    "    cost_matrix_type=CostMatrixType.L2\n",
    ")(image, noised_image)\n",
    "\n",
    "print(f'Wasserstein:{ref_wass};MyWasserstein:{my_wass}')"
   ]
  }
 ],
 "metadata": {
  "kernelspec": {
   "display_name": "Python 3",
   "language": "python",
   "name": "python3"
  },
  "language_info": {
   "codemirror_mode": {
    "name": "ipython",
    "version": 3
   },
   "file_extension": ".py",
   "mimetype": "text/x-python",
   "name": "python",
   "nbconvert_exporter": "python",
   "pygments_lexer": "ipython3",
   "version": "3.10.7"
  }
 },
 "nbformat": 4,
 "nbformat_minor": 2
}
