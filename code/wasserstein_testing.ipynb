{
  "cells": [
    {
      "cell_type": "code",
      "execution_count": 1,
      "metadata": {
        "id": "6U4pOt0iv4ol"
      },
      "outputs": [],
      "source": [
        "%load_ext autoreload\n",
        "%autoreload 2"
      ]
    },
    {
      "cell_type": "code",
      "source": [
        "!pip install pykeops geomloss"
      ],
      "metadata": {
        "id": "oTNX7ezVv5o-",
        "outputId": "1230dd7c-0b52-4cad-9080-379b6639afdf",
        "colab": {
          "base_uri": "https://localhost:8080/"
        }
      },
      "execution_count": 2,
      "outputs": [
        {
          "output_type": "stream",
          "name": "stdout",
          "text": [
            "Collecting pykeops\n",
            "  Downloading pykeops-2.2.2.tar.gz (92 kB)\n",
            "\u001b[2K     \u001b[90m━━━━━━━━━━━━━━━━━━━━━━━━━━━━━━━━━━━━━━━━\u001b[0m \u001b[32m92.4/92.4 kB\u001b[0m \u001b[31m2.5 MB/s\u001b[0m eta \u001b[36m0:00:00\u001b[0m\n",
            "\u001b[?25h  Preparing metadata (setup.py) ... \u001b[?25l\u001b[?25hdone\n",
            "Collecting geomloss\n",
            "  Downloading geomloss-0.2.6.tar.gz (26 kB)\n",
            "  Preparing metadata (setup.py) ... \u001b[?25l\u001b[?25hdone\n",
            "Requirement already satisfied: numpy in /usr/local/lib/python3.10/dist-packages (from pykeops) (1.23.5)\n",
            "Collecting pybind11 (from pykeops)\n",
            "  Downloading pybind11-2.11.1-py3-none-any.whl (227 kB)\n",
            "\u001b[2K     \u001b[90m━━━━━━━━━━━━━━━━━━━━━━━━━━━━━━━━━━━━━━━━\u001b[0m \u001b[32m227.7/227.7 kB\u001b[0m \u001b[31m8.8 MB/s\u001b[0m eta \u001b[36m0:00:00\u001b[0m\n",
            "\u001b[?25hCollecting keopscore==2.2.2 (from pykeops)\n",
            "  Downloading keopscore-2.2.2.tar.gz (99 kB)\n",
            "\u001b[2K     \u001b[90m━━━━━━━━━━━━━━━━━━━━━━━━━━━━━━━━━━━━━━━━\u001b[0m \u001b[32m100.0/100.0 kB\u001b[0m \u001b[31m10.7 MB/s\u001b[0m eta \u001b[36m0:00:00\u001b[0m\n",
            "\u001b[?25h  Preparing metadata (setup.py) ... \u001b[?25l\u001b[?25hdone\n",
            "Requirement already satisfied: torch in /usr/local/lib/python3.10/dist-packages (from geomloss) (2.1.0+cu121)\n",
            "Requirement already satisfied: filelock in /usr/local/lib/python3.10/dist-packages (from torch->geomloss) (3.13.1)\n",
            "Requirement already satisfied: typing-extensions in /usr/local/lib/python3.10/dist-packages (from torch->geomloss) (4.9.0)\n",
            "Requirement already satisfied: sympy in /usr/local/lib/python3.10/dist-packages (from torch->geomloss) (1.12)\n",
            "Requirement already satisfied: networkx in /usr/local/lib/python3.10/dist-packages (from torch->geomloss) (3.2.1)\n",
            "Requirement already satisfied: jinja2 in /usr/local/lib/python3.10/dist-packages (from torch->geomloss) (3.1.3)\n",
            "Requirement already satisfied: fsspec in /usr/local/lib/python3.10/dist-packages (from torch->geomloss) (2023.6.0)\n",
            "Requirement already satisfied: triton==2.1.0 in /usr/local/lib/python3.10/dist-packages (from torch->geomloss) (2.1.0)\n",
            "Requirement already satisfied: MarkupSafe>=2.0 in /usr/local/lib/python3.10/dist-packages (from jinja2->torch->geomloss) (2.1.5)\n",
            "Requirement already satisfied: mpmath>=0.19 in /usr/local/lib/python3.10/dist-packages (from sympy->torch->geomloss) (1.3.0)\n",
            "Building wheels for collected packages: pykeops, keopscore, geomloss\n",
            "  Building wheel for pykeops (setup.py) ... \u001b[?25l\u001b[?25hdone\n",
            "  Created wheel for pykeops: filename=pykeops-2.2.2-py3-none-any.whl size=118569 sha256=673a04ae41b8206425aa72f7e4d1a0b11d0a7fe6c21a11220762c7400be6cc54\n",
            "  Stored in directory: /root/.cache/pip/wheels/38/ba/0b/1c2a3180b8915df70a579398e11d3df1e6e03e8489e2b94e67\n",
            "  Building wheel for keopscore (setup.py) ... \u001b[?25l\u001b[?25hdone\n",
            "  Created wheel for keopscore: filename=keopscore-2.2.2-py3-none-any.whl size=172137 sha256=08f06e20e8fefdedcc7b7ac3f95c7af14424244271e370894208f2837dde7367\n",
            "  Stored in directory: /root/.cache/pip/wheels/61/64/f7/479a0fec680c8cca7c8651ae7218174e1b26b9c4624f84310c\n",
            "  Building wheel for geomloss (setup.py) ... \u001b[?25l\u001b[?25hdone\n",
            "  Created wheel for geomloss: filename=geomloss-0.2.6-py3-none-any.whl size=32245 sha256=f4a1fcea3d546b7cb0bf27dbca76c8e997eb01e3d713dc57a6b7b01a40e088f4\n",
            "  Stored in directory: /root/.cache/pip/wheels/0d/c9/80/4387eb03aa215ae557869d6fe8be498fd3d3cf297db2357b67\n",
            "Successfully built pykeops keopscore geomloss\n",
            "Installing collected packages: pybind11, keopscore, pykeops, geomloss\n",
            "Successfully installed geomloss-0.2.6 keopscore-2.2.2 pybind11-2.11.1 pykeops-2.2.2\n"
          ]
        }
      ]
    },
    {
      "cell_type": "code",
      "execution_count": 12,
      "metadata": {
        "id": "fKMVk38jv4ol"
      },
      "outputs": [],
      "source": [
        "from mytest import get_mnist_pair, dual_sinkhorn, transform_image_for_geomloss\n",
        "from metrics import WassersteinApproximation, CostMatrixType"
      ]
    },
    {
      "cell_type": "code",
      "source": [
        "import torch"
      ],
      "metadata": {
        "id": "A4L9xTnwzflc"
      },
      "execution_count": 7,
      "outputs": []
    },
    {
      "cell_type": "code",
      "execution_count": 22,
      "metadata": {
        "id": "tgGe1il0v4om",
        "outputId": "30b76405-0393-489a-abdd-39faad7d6f09",
        "colab": {
          "base_uri": "https://localhost:8080/"
        }
      },
      "outputs": [
        {
          "output_type": "stream",
          "name": "stdout",
          "text": [
            "Wasserstein:0.5995988845825195;MyWasserstein:0.5982085466384888\n"
          ]
        }
      ],
      "source": [
        "image, noised_image = torch.rand(1, 5, 5), torch.rand(1, 5, 5)\n",
        "image = image.unsqueeze(0)\n",
        "noised_image = noised_image.unsqueeze(0)\n",
        "\n",
        "regularization = 5\n",
        "\n",
        "my_wass = WassersteinApproximation(\n",
        "    regularization=regularization,\n",
        "    cost_matrix_type=CostMatrixType.L2\n",
        ")(image, noised_image)\n",
        "\n",
        "t_i = transform_image_for_geomloss(image)\n",
        "t_n = transform_image_for_geomloss(noised_image)\n",
        "\n",
        "w_x = torch.ones(t_i.shape[0]) / t_i.shape[0]\n",
        "w_y = torch.ones(t_n.shape[0]) / t_n.shape[0]\n",
        "\n",
        "ref_wass = sinkhorn(\n",
        "    t_i,\n",
        "    t_n,\n",
        "    p = 2,\n",
        "    w_x=w_x,\n",
        "    w_y=w_y,\n",
        "    eps = 1 / regularization\n",
        ")\n",
        "\n",
        "print(f'Wasserstein:{ref_wass[0]};MyWasserstein:{my_wass.item()}')"
      ]
    },
    {
      "cell_type": "code",
      "source": [
        "from typing import Union\n",
        "\n",
        "import pykeops.torch as keops\n",
        "import torch\n",
        "\n",
        "import tqdm\n",
        "\n",
        "def sinkhorn(x: torch.Tensor, y: torch.Tensor, p: float = 2,\n",
        "             w_x: Union[torch.Tensor, None] = None,\n",
        "             w_y: Union[torch.Tensor, None] = None,\n",
        "             eps: float = 1e-3,\n",
        "             max_iters: int = 100, stop_thresh: float = 1e-5,\n",
        "             verbose=False):\n",
        "    \"\"\"\n",
        "    Compute the Entropy-Regularized p-Wasserstein Distance between two d-dimensional point clouds\n",
        "    using the Sinkhorn scaling algorithm. This code will use the GPU if you pass in GPU tensors.\n",
        "    Note that this algorithm can be backpropped through\n",
        "    (though this may be slow if using many iterations).\n",
        "\n",
        "    :param x: A [n, d] tensor representing a d-dimensional point cloud with n points (one per row)\n",
        "    :param y: A [m, d] tensor representing a d-dimensional point cloud with m points (one per row)\n",
        "    :param p: Which norm to use. Must be an integer greater than 0.\n",
        "    :param w_x: A [n,] shaped tensor of optional weights for the points x (None for uniform weights). Note that these must sum to the same value as w_y. Default is None.\n",
        "    :param w_y: A [m,] shaped tensor of optional weights for the points y (None for uniform weights). Note that these must sum to the same value as w_y. Default is None.\n",
        "    :param eps: The reciprocal of the sinkhorn entropy regularization parameter.\n",
        "    :param max_iters: The maximum number of Sinkhorn iterations to perform.\n",
        "    :param stop_thresh: Stop if the maximum change in the parameters is below this amount\n",
        "    :param verbose: Print iterations\n",
        "    :return: a triple (d, corrs_x_to_y, corr_y_to_x) where:\n",
        "      * d is the approximate p-wasserstein distance between point clouds x and y\n",
        "      * corrs_x_to_y is a [n,]-shaped tensor where corrs_x_to_y[i] is the index of the approximate correspondence in point cloud y of point x[i] (i.e. x[i] and y[corrs_x_to_y[i]] are a corresponding pair)\n",
        "      * corrs_y_to_x is a [m,]-shaped tensor where corrs_y_to_x[i] is the index of the approximate correspondence in point cloud x of point y[j] (i.e. y[j] and x[corrs_y_to_x[j]] are a corresponding pair)\n",
        "    \"\"\"\n",
        "\n",
        "    if not isinstance(p, int):\n",
        "        raise TypeError(f\"p must be an integer greater than 0, got {p}\")\n",
        "    if p <= 0:\n",
        "        raise ValueError(f\"p must be an integer greater than 0, got {p}\")\n",
        "\n",
        "    if eps <= 0:\n",
        "        raise ValueError(\"Entropy regularization term eps must be > 0\")\n",
        "\n",
        "    if not isinstance(p, int):\n",
        "        raise TypeError(f\"max_iters must be an integer > 0, got {max_iters}\")\n",
        "    if max_iters <= 0:\n",
        "        raise ValueError(f\"max_iters must be an integer > 0, got {max_iters}\")\n",
        "\n",
        "    if not isinstance(stop_thresh, float):\n",
        "        raise TypeError(f\"stop_thresh must be a float, got {stop_thresh}\")\n",
        "\n",
        "    if len(x.shape) != 2:\n",
        "        raise ValueError(f\"x must be an [n, d] tensor but got shape {x.shape}\")\n",
        "    if len(y.shape) != 2:\n",
        "        raise ValueError(f\"x must be an [m, d] tensor but got shape {y.shape}\")\n",
        "    if x.shape[1] != y.shape[1]:\n",
        "        raise ValueError(f\"x and y must match in the last dimension (i.e. x.shape=[n, d], \"\n",
        "                         f\"y.shape[m, d]) but got x.shape = {x.shape}, y.shape={y.shape}\")\n",
        "\n",
        "    if w_x is not None:\n",
        "        if w_y is None:\n",
        "            raise ValueError(\"If w_x is not None, w_y must also be not None\")\n",
        "        if len(w_x.shape) > 1:\n",
        "            w_x = w_x.squeeze()\n",
        "        if len(w_x.shape) != 1:\n",
        "            raise ValueError(f\"w_x must have shape [n,] or [n, 1] \"\n",
        "                             f\"where x.shape = [n, d], but got w_x.shape = {w_x.shape}\")\n",
        "        if w_x.shape[0] != x.shape[0]:\n",
        "            raise ValueError(f\"w_x must match the shape of x in dimension 0 but got \"\n",
        "                             f\"x.shape = {x.shape} and w_x.shape = {w_x.shape}\")\n",
        "    if w_y is not None:\n",
        "        if w_x is None:\n",
        "            raise ValueError(\"If w_y is not None, w_x must also be not None\")\n",
        "        if len(w_y.shape) > 1:\n",
        "            w_y = w_y.squeeze()\n",
        "        if len(w_y.shape) != 1:\n",
        "            raise ValueError(f\"w_y must have shape [n,] or [n, 1] \"\n",
        "                             f\"where x.shape = [n, d], but got w_y.shape = {w_y.shape}\")\n",
        "        if w_x.shape[0] != x.shape[0]:\n",
        "            raise ValueError(f\"w_y must match the shape of y in dimension 0 but got \"\n",
        "                             f\"y.shape = {y.shape} and w_y.shape = {w_y.shape}\")\n",
        "\n",
        "\n",
        "    # Distance matrix [n, m]\n",
        "    x_i = keops.Vi(x)  # [n, 1, d]\n",
        "    y_j = keops.Vj(y)  # [i, m, d]\n",
        "    if p == 1:\n",
        "        M_ij = ((x_i - y_j) ** p).abs().sum(dim=2) # [n, m]\n",
        "    else:\n",
        "        M_ij = ((x_i - y_j) ** p).sum(dim=2) ** (1.0 / p)  # [n, m]\n",
        "\n",
        "    # Weights [n,] and [m,]\n",
        "    if w_x is None and w_y is None:\n",
        "        w_x = torch.ones(x.shape[0]).to(x) / x.shape[0]\n",
        "        w_y = torch.ones(y.shape[0]).to(x) / y.shape[0]\n",
        "        w_y *= (w_x.shape[0] / w_y.shape[0])\n",
        "\n",
        "    sum_w_x = w_x.sum().item()\n",
        "    sum_w_y = w_y.sum().item()\n",
        "    if abs(sum_w_x - sum_w_y) > 1e-5:\n",
        "        raise ValueError(f\"Weights w_x and w_y do not sum to the same value, \"\n",
        "                         f\"got w_x.sum() = {sum_w_x} and w_y.sum() = {sum_w_y} \"\n",
        "                         f\"(absolute difference = {abs(sum_w_x - sum_w_y)}\")\n",
        "\n",
        "    log_a = torch.log(w_x)  # [n]\n",
        "    log_b = torch.log(w_y)  # [m]\n",
        "\n",
        "    # Initialize the iteration with the change of variable\n",
        "    u = torch.zeros_like(w_x)\n",
        "    v = eps * torch.log(w_y)\n",
        "\n",
        "    u_i = keops.Vi(u.unsqueeze(-1))\n",
        "    v_j = keops.Vj(v.unsqueeze(-1))\n",
        "\n",
        "    if verbose:\n",
        "        pbar = tqdm.trange(max_iters)\n",
        "    else:\n",
        "        pbar = range(max_iters)\n",
        "\n",
        "    for _ in pbar:\n",
        "        u_prev = u\n",
        "        v_prev = v\n",
        "\n",
        "        summand_u = (-M_ij + v_j) / eps\n",
        "        u = eps * (log_a - summand_u.logsumexp(dim=1).squeeze())\n",
        "        u_i = keops.Vi(u.unsqueeze(-1))\n",
        "\n",
        "        summand_v = (-M_ij + u_i) / eps\n",
        "        v = eps * (log_b - summand_v.logsumexp(dim=0).squeeze())\n",
        "        v_j = keops.Vj(v.unsqueeze(-1))\n",
        "\n",
        "        max_err_u = torch.max(torch.abs(u_prev-u))\n",
        "        max_err_v = torch.max(torch.abs(v_prev-v))\n",
        "        if verbose:\n",
        "            pbar.set_postfix({\"Current Max Error\": max(max_err_u, max_err_v).item()})\n",
        "        if max_err_u < stop_thresh and max_err_v < stop_thresh:\n",
        "            break\n",
        "\n",
        "    P_ij = ((-M_ij + u_i + v_j) / eps).exp()\n",
        "\n",
        "    approx_corr_1 = P_ij.argmax(dim=1).squeeze(-1)\n",
        "    approx_corr_2 = P_ij.argmax(dim=0).squeeze(-1)\n",
        "\n",
        "    if u.shape[0] > v.shape[0]:\n",
        "        distance = (P_ij * M_ij).sum(dim=1).sum()\n",
        "    else:\n",
        "        distance = (P_ij * M_ij).sum(dim=0).sum()\n",
        "    return distance, approx_corr_1, approx_corr_2\n"
      ],
      "metadata": {
        "id": "e9yhWMal1Q0r"
      },
      "execution_count": 11,
      "outputs": []
    }
  ],
  "metadata": {
    "kernelspec": {
      "display_name": "Python 3",
      "language": "python",
      "name": "python3"
    },
    "language_info": {
      "codemirror_mode": {
        "name": "ipython",
        "version": 3
      },
      "file_extension": ".py",
      "mimetype": "text/x-python",
      "name": "python",
      "nbconvert_exporter": "python",
      "pygments_lexer": "ipython3",
      "version": "3.10.7"
    },
    "colab": {
      "provenance": []
    }
  },
  "nbformat": 4,
  "nbformat_minor": 0
}