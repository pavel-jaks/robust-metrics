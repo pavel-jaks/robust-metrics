{
 "cells": [
  {
   "cell_type": "code",
   "execution_count": 1,
   "metadata": {},
   "outputs": [],
   "source": [
    "import os\n",
    "\n",
    "import pandas"
   ]
  },
  {
   "cell_type": "code",
   "execution_count": 6,
   "metadata": {},
   "outputs": [],
   "source": [
    "file_names = []\n",
    "for file_name in os.listdir('adversarials\\\\cw'):\n",
    "    file = os.path.splitext(file_name)[0]\n",
    "    if 'benign' in file or 'result' in file:\n",
    "        continue\n",
    "    file_names.append(file)\n",
    "\n",
    "data = {\n",
    "    'metric_name': [],\n",
    "    'lambda': [],\n",
    "    'is_adversarial': [],\n",
    "    'metric_distance': [],\n",
    "    'l2_distance': [],\n",
    "    'benign_index': [],\n",
    "    'file_name': []\n",
    "}\n",
    "\n",
    "for file_name in file_names:\n",
    "    data['file_name'].append(file_name)\n",
    "    parts = file_name.split('_')\n",
    "    data['benign_index'].append(int(parts[-1]))\n",
    "    data['l2_distance'].append(float(parts[-2][2:]))\n",
    "    data['metric_distance'].append(float(parts[-3][4:]))\n",
    "    data['is_adversarial'].append(parts[-4] == 'adv')\n",
    "    data['lambda'].append(float(parts[-5][6:]))\n",
    "    data['metric_name'].append('_'.join(parts[0:-5]))\n",
    "\n",
    "df = pandas.DataFrame(data)\n",
    "df.to_csv('adversarials\\\\cw\\\\results.csv')"
   ]
  },
  {
   "cell_type": "code",
   "execution_count": 11,
   "metadata": {},
   "outputs": [],
   "source": [
    "df_working = df.copy()"
   ]
  },
  {
   "cell_type": "code",
   "execution_count": 28,
   "metadata": {},
   "outputs": [],
   "source": [
    "# df_working = df_working.drop(columns=['file_name', 'benign_index'])\n",
    "# df_working.drop('benign_index')\n",
    "aggregates = df_working.groupby(['metric_name', 'lambda']).mean()\n",
    "agg_str = aggregates.copy()\n",
    "agg_str['l2_distance'] = aggregates['l2_distance'].map('{:.4f}'.format)\n",
    "agg_str['metric_distance'] = aggregates['metric_distance'].map('{:.4f}'.format)\n",
    "agg_str['is_adversarial'] = aggregates['is_adversarial'].map('{:.2f}'.format)\n",
    "\n",
    "agg_str.to_csv(\n",
    "    'adversarials\\\\cw\\\\aggregates_diff.csv',\n",
    "    float_format='{:.0e}'.format\n",
    ")"
   ]
  }
 ],
 "metadata": {
  "kernelspec": {
   "display_name": ".env",
   "language": "python",
   "name": "python3"
  },
  "language_info": {
   "codemirror_mode": {
    "name": "ipython",
    "version": 3
   },
   "file_extension": ".py",
   "mimetype": "text/x-python",
   "name": "python",
   "nbconvert_exporter": "python",
   "pygments_lexer": "ipython3",
   "version": "3.10.7"
  },
  "orig_nbformat": 4
 },
 "nbformat": 4,
 "nbformat_minor": 2
}
