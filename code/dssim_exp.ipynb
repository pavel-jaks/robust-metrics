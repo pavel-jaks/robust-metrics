{
 "cells": [
  {
   "cell_type": "code",
   "execution_count": 6,
   "metadata": {},
   "outputs": [],
   "source": [
    "import metrics\n",
    "import pytorch_msssim as ms\n",
    "import ignite.metrics as ign\n",
    "import torch\n",
    "import timeit"
   ]
  },
  {
   "cell_type": "code",
   "execution_count": 23,
   "metadata": {},
   "outputs": [],
   "source": [
    "def benchmark(metric, image_pair, number_of_runs, description):\n",
    "    setup = f\"from __main__ import {metric}; import torch; image1 = {image_pair[0]}; image2 = {image_pair[1]};\"\n",
    "    code = f\"{metric}(image1, image2)\"\n",
    "    time = timeit.repeat(stmt=code, setup=setup, repeat=1, number=number_of_runs)\n",
    "    print(description)\n",
    "    print(f\"Metric: {metric}\")\n",
    "    for i, result in enumerate(time):\n",
    "        print(f\"Run {i + 1}: {result}\")\n",
    "    print(\"_____________\")\n",
    "\n",
    "def benchmark2(metric, image_pair, number_of_runs, description):\n",
    "    setup = f\"from __main__ import {metric}; import torch; image1 = {image_pair[0]}; image2 = {image_pair[1]};\"\n",
    "    code = f\"{metric}.update((image1, image2));{metric}.compute();{metric}.reset()\"\n",
    "    time = timeit.repeat(stmt=code, setup=setup, repeat=1, number=number_of_runs)\n",
    "    print(description)\n",
    "    print(f\"Metric: {metric}\")\n",
    "    for i, result in enumerate(time):\n",
    "        print(f\"Run {i + 1}: {result}\")\n",
    "    print(\"_____________\")"
   ]
  },
  {
   "cell_type": "code",
   "execution_count": 18,
   "metadata": {},
   "outputs": [],
   "source": [
    "metric1 = metrics.StructuralDissimilarity(window_size=7)\n",
    "metric2 = ms.SSIM(data_range=1, win_size=7, size_average=False, channel=1)\n",
    "metric3 = ign.SSIM(data_range=1, kernel_size=(7, 7), gaussian=False)"
   ]
  },
  {
   "cell_type": "code",
   "execution_count": 24,
   "metadata": {},
   "outputs": [
    {
     "name": "stdout",
     "output_type": "stream",
     "text": [
      "test_images1\n",
      "Metric: metric1\n",
      "Run 1: 0.6617897000396624\n",
      "_____________\n",
      "test_images2\n",
      "Metric: metric1\n",
      "Run 1: 1.1273250000085682\n",
      "_____________\n",
      "test_images3\n",
      "Metric: metric1\n",
      "Run 1: 5.026466600014828\n",
      "_____________\n",
      "test_images1\n",
      "Metric: metric1\n",
      "Run 1: 0.683551499969326\n",
      "_____________\n",
      "test_images2\n",
      "Metric: metric1\n",
      "Run 1: 1.0361733000027016\n",
      "_____________\n",
      "test_images3\n",
      "Metric: metric1\n",
      "Run 1: 5.167228700011037\n",
      "_____________\n",
      "test_images1\n",
      "Metric: metric2\n",
      "Run 1: 0.016280899988487363\n",
      "_____________\n",
      "test_images2\n",
      "Metric: metric2\n",
      "Run 1: 0.028547099966090173\n",
      "_____________\n",
      "test_images3\n",
      "Metric: metric2\n",
      "Run 1: 0.30428260000189766\n",
      "_____________\n",
      "test_images1\n",
      "Metric: metric3\n",
      "Run 1: 0.00682880001841113\n",
      "_____________\n",
      "test_images2\n",
      "Metric: metric3\n",
      "Run 1: 0.0389265000121668\n",
      "_____________\n",
      "test_images3\n",
      "Metric: metric3\n",
      "Run 1: 0.36154210002860054\n",
      "_____________\n"
     ]
    }
   ],
   "source": [
    "image_pairs = [\n",
    "        ('torch.rand(10, 1, 28, 28)', 'torch.rand(10, 1, 28, 28)'),\n",
    "        ('torch.rand(100, 1, 28, 28)', 'torch.rand(100, 1, 28, 28)'),\n",
    "        ('torch.rand(1000, 1, 28, 28)', 'torch.rand(1000, 1, 28, 28)')\n",
    "    ]\n",
    "# WarmUp\n",
    "for i, pair in enumerate(image_pairs):\n",
    "    benchmark(f'{metric1=}'.split('=')[0], pair, 10, f\"test_images{i + 1}\")\n",
    "for i, pair in enumerate(image_pairs):\n",
    "    benchmark(f'{metric1=}'.split('=')[0], pair, 10, f\"test_images{i + 1}\")\n",
    "for i, pair in enumerate(image_pairs):\n",
    "    benchmark(f'{metric2=}'.split('=')[0], pair, 10, f\"test_images{i + 1}\")\n",
    "for i, pair in enumerate(image_pairs):\n",
    "    benchmark2(f'{metric3=}'.split('=')[0], pair, 10, f\"test_images{i + 1}\")"
   ]
  }
 ],
 "metadata": {
  "kernelspec": {
   "display_name": ".venv",
   "language": "python",
   "name": "python3"
  },
  "language_info": {
   "codemirror_mode": {
    "name": "ipython",
    "version": 3
   },
   "file_extension": ".py",
   "mimetype": "text/x-python",
   "name": "python",
   "nbconvert_exporter": "python",
   "pygments_lexer": "ipython3",
   "version": "3.10.7"
  }
 },
 "nbformat": 4,
 "nbformat_minor": 2
}
